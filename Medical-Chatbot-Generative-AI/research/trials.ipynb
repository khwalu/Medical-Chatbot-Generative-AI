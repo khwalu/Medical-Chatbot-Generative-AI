{
 "cells": [
  {
   "cell_type": "code",
   "execution_count": 1,
   "id": "e2bfd1b0",
   "metadata": {},
   "outputs": [
    {
     "name": "stdout",
     "output_type": "stream",
     "text": [
      "Hie\n"
     ]
    }
   ],
   "source": [
    "print('Hie')"
   ]
  },
  {
   "cell_type": "code",
   "execution_count": 2,
   "id": "904d9c4d",
   "metadata": {},
   "outputs": [
    {
     "data": {
      "text/plain": [
       "'c:\\\\Users\\\\TOBBY\\\\Documents\\\\Medical-Chatbot-Generative-AI\\\\research'"
      ]
     },
     "execution_count": 2,
     "metadata": {},
     "output_type": "execute_result"
    }
   ],
   "source": [
    "%pwd"
   ]
  },
  {
   "cell_type": "code",
   "execution_count": 3,
   "id": "d473c1a6",
   "metadata": {},
   "outputs": [],
   "source": [
    "import os\n",
    "os.chdir(\"../\")"
   ]
  },
  {
   "cell_type": "code",
   "execution_count": 4,
   "id": "1e054400",
   "metadata": {},
   "outputs": [
    {
     "data": {
      "text/plain": [
       "'c:\\\\Users\\\\TOBBY\\\\Documents\\\\Medical-Chatbot-Generative-AI'"
      ]
     },
     "execution_count": 4,
     "metadata": {},
     "output_type": "execute_result"
    }
   ],
   "source": [
    "%pwd"
   ]
  },
  {
   "cell_type": "code",
   "execution_count": 5,
   "id": "c4dc56f4",
   "metadata": {},
   "outputs": [
    {
     "name": "stderr",
     "output_type": "stream",
     "text": [
      "C:\\Users\\TOBBY\\AppData\\Roaming\\Python\\Python311\\site-packages\\tqdm\\auto.py:21: TqdmWarning: IProgress not found. Please update jupyter and ipywidgets. See https://ipywidgets.readthedocs.io/en/stable/user_install.html\n",
      "  from .autonotebook import tqdm as notebook_tqdm\n"
     ]
    }
   ],
   "source": [
    "import os\n",
    "from dotenv import load_dotenv\n",
    "from pinecone import Pinecone, ServerlessSpec\n",
    "from typing import List\n",
    "\n",
    "from langchain_community.document_loaders import PyPDFLoader, DirectoryLoader\n",
    "from langchain.text_splitter import RecursiveCharacterTextSplitter\n",
    "from langchain.schema import Document\n",
    "from langchain_community.embeddings import HuggingFaceEmbeddings\n",
    "from langchain.chains import create_retrieval_chain\n",
    "from langchain.chains.combine_documents import create_stuff_documents_chain\n",
    "from langchain_core.prompts import ChatPromptTemplate\n",
    "from langchain_pinecone import PineconeVectorStore\n",
    "from langchain_google_genai import ChatGoogleGenerativeAI\n",
    "from pinecone.grpc import PineconeGRPC as Pinecone\n",
    "from pinecone import ServerlessSpec\n"
   ]
  },
  {
   "cell_type": "code",
   "execution_count": 6,
   "id": "e752cfec",
   "metadata": {},
   "outputs": [
    {
     "data": {
      "text/plain": [
       "True"
      ]
     },
     "execution_count": 6,
     "metadata": {},
     "output_type": "execute_result"
    }
   ],
   "source": [
    "# Load environment variables from .env file\n",
    "load_dotenv()"
   ]
  },
  {
   "cell_type": "code",
   "execution_count": 7,
   "id": "7f2f8cd2",
   "metadata": {},
   "outputs": [
    {
     "name": "stdout",
     "output_type": "stream",
     "text": [
      "✓ Environment variables validated\n"
     ]
    }
   ],
   "source": [
    "def validate_environment():\n",
    "    \"\"\"Validate required environment variables\"\"\"\n",
    "    required_vars = ['PINECONE_API_KEY', 'GEMINI_API_KEY']\n",
    "    missing_vars = [var for var in required_vars if not os.environ.get(var)]\n",
    "    \n",
    "    if missing_vars:\n",
    "        raise ValueError(f\"Missing environment variables: {', '.join(missing_vars)}\")\n",
    "    \n",
    "    print(\"✓ Environment variables validated\")\n",
    "\n",
    "# Validate environment before proceeding\n",
    "validate_environment()"
   ]
  },
  {
   "cell_type": "code",
   "execution_count": 8,
   "id": "455e1c10",
   "metadata": {},
   "outputs": [
    {
     "name": "stdout",
     "output_type": "stream",
     "text": [
      "✓ Successfully loaded 1396 PDF documents\n",
      "Total documents: 1396\n"
     ]
    }
   ],
   "source": [
    "# Enhanced PDF Loading with Error Handling\n",
    "def load_pdf_file(data):\n",
    "    \"\"\"Extract Data From the PDF File\"\"\"\n",
    "    try:\n",
    "        loader = DirectoryLoader(data,\n",
    "                               glob=\"*.pdf\",\n",
    "                               loader_cls=PyPDFLoader)\n",
    "        documents = loader.load()\n",
    "        print(f\"✓ Successfully loaded {len(documents)} PDF documents\")\n",
    "        return documents\n",
    "    except Exception as e:\n",
    "        print(f\"✗ Error loading PDF files: {e}\")\n",
    "        return []\n",
    "try:\n",
    "    extracted_data = load_pdf_file(data='data/')\n",
    "    print(f\"Total documents: {len(extracted_data)}\")\n",
    "except Exception as e:\n",
    "    print(f\"Failed to load documents: {e}\")\n",
    "    extracted_data = []\n"
   ]
  },
  {
   "cell_type": "code",
   "execution_count": 9,
   "id": "c7549c97",
   "metadata": {},
   "outputs": [
    {
     "name": "stdout",
     "output_type": "stream",
     "text": [
      "✓ Filtered to 1396 minimal documents\n"
     ]
    }
   ],
   "source": [
    "def filter_to_minimal_docs(docs: List[Document]) -> List[Document]:\n",
    "    \"\"\"\n",
    "    Given a list of Document objects, return a new list of Document objects\n",
    "    containing only 'source' in metadata and the original page_content.\n",
    "    \"\"\"\n",
    "    minimal_docs: List[Document] = []\n",
    "    for doc in docs:\n",
    "        src = doc.metadata.get(\"source\")\n",
    "        minimal_docs.append(\n",
    "            Document(\n",
    "                page_content=doc.page_content,\n",
    "                metadata={\"source\": src}\n",
    "            )\n",
    "        )\n",
    "    return minimal_docs\n",
    "\n",
    "# Apply filtering with error handling - keeping your variable name\n",
    "try:\n",
    "    minimal_docs = filter_to_minimal_docs(extracted_data)\n",
    "    print(f\"✓ Filtered to {len(minimal_docs)} minimal documents\")\n",
    "except Exception as e:\n",
    "    print(f\"✗ Error filtering documents: {e}\")\n",
    "    minimal_docs = []"
   ]
  },
  {
   "cell_type": "code",
   "execution_count": 10,
   "id": "cd10d53e",
   "metadata": {},
   "outputs": [
    {
     "name": "stdout",
     "output_type": "stream",
     "text": [
      "✓ Created 12832 text chunks\n",
      "Length of Text Chunks 12832\n"
     ]
    }
   ],
   "source": [
    "# Enhanced Text Splitting - keeping your exact function name\n",
    "def text_split(minimal_docs):\n",
    "    \"\"\"Split the Data into Text Chunks - Enhanced with error handling\"\"\"\n",
    "    try:\n",
    "        text_splitter = RecursiveCharacterTextSplitter(\n",
    "            chunk_size=500, \n",
    "            chunk_overlap=20,\n",
    "            length_function=len,\n",
    "            separators=[\"\\n\\n\", \"\\n\", \" \", \"\"]  # Better separators\n",
    "        )\n",
    "        text_chunks = text_splitter.split_documents(minimal_docs)\n",
    "        print(f\"✓ Created {len(text_chunks)} text chunks\")\n",
    "        return text_chunks\n",
    "    except Exception as e:\n",
    "        print(f\"✗ Error splitting text: {e}\")\n",
    "        return []\n",
    "\n",
    "# Your original variable names preserved\n",
    "text_chunks = text_split(minimal_docs)\n",
    "print(\"Length of Text Chunks\", len(text_chunks))"
   ]
  },
  {
   "cell_type": "code",
   "execution_count": 11,
   "id": "f95be967",
   "metadata": {},
   "outputs": [
    {
     "name": "stderr",
     "output_type": "stream",
     "text": [
      "C:\\Users\\TOBBY\\AppData\\Local\\Temp\\ipykernel_6008\\3760730802.py:5: LangChainDeprecationWarning: The class `HuggingFaceEmbeddings` was deprecated in LangChain 0.2.2 and will be removed in 1.0. An updated version of the class exists in the :class:`~langchain-huggingface package and should be used instead. To use it run `pip install -U :class:`~langchain-huggingface` and import as `from :class:`~langchain_huggingface import HuggingFaceEmbeddings``.\n",
      "  embeddings = HuggingFaceEmbeddings(model_name='sentence-transformers/all-MiniLM-L6-v2')\n"
     ]
    },
    {
     "name": "stdout",
     "output_type": "stream",
     "text": [
      "✓ HuggingFace embeddings initialized successfully\n",
      "Length 384\n",
      "✓ Embeddings test successful\n"
     ]
    }
   ],
   "source": [
    "#Enhanced Embeddings \n",
    "def download_hugging_face_embeddings():\n",
    "    \"\"\"Download the Embeddings from Hugging Face\"\"\"\n",
    "    try:\n",
    "        embeddings = HuggingFaceEmbeddings(model_name='sentence-transformers/all-MiniLM-L6-v2')\n",
    "        print(\"✓ HuggingFace embeddings initialized successfully\")\n",
    "        return embeddings\n",
    "    except Exception as e:\n",
    "        print(f\"✗ Error initializing embeddings: {e}\")\n",
    "        raise\n",
    "    \n",
    "embeddings = download_hugging_face_embeddings()\n",
    "\n",
    "try:\n",
    "    query_result = embeddings.embed_query(\"Hello world\")\n",
    "    print(\"Length\", len(query_result))\n",
    "    print(\"✓ Embeddings test successful\")\n",
    "except Exception as e:\n",
    "    print(f\"✗ Embeddings test failed: {e}\")"
   ]
  },
  {
   "cell_type": "code",
   "execution_count": 12,
   "id": "a474b669",
   "metadata": {},
   "outputs": [
    {
     "name": "stdout",
     "output_type": "stream",
     "text": [
      "✓ API keys retrieved from environment\n"
     ]
    }
   ],
   "source": [
    "#Enhanced API Key Management\n",
    "try:\n",
    "    PINECONE_API_KEY = os.environ.get('PINECONE_API_KEY')\n",
    "    GEMINI_API_KEY = os.environ.get('GEMINI_API_KEY')\n",
    "    \n",
    "    if not PINECONE_API_KEY:\n",
    "        raise ValueError(\"PINECONE_API_KEY environment variable not set\")\n",
    "    if not GEMINI_API_KEY:\n",
    "        raise ValueError(\"GEMINI_API_KEY environment variable not set\")\n",
    "        \n",
    "    print(\"✓ API keys retrieved from environment\")\n",
    "except Exception as e:\n",
    "    print(f\"✗ Error getting API keys: {e}\")\n",
    "    raise\n",
    "pinecone_api_key = PINECONE_API_KEY\n"
   ]
  },
  {
   "cell_type": "code",
   "execution_count": 13,
   "id": "319870d2",
   "metadata": {},
   "outputs": [
    {
     "name": "stdout",
     "output_type": "stream",
     "text": [
      "✓ Pinecone client initialized\n",
      "✓ Using existing index: medicalbot\n",
      "✓ Index ready\n"
     ]
    }
   ],
   "source": [
    "# Enhanced Pinecone Setup\n",
    "try:\n",
    "    pc = Pinecone(api_key=pinecone_api_key)\n",
    "    print(\"✓ Pinecone client initialized\")\n",
    "except Exception as e:\n",
    "    print(f\"✗ Error initializing Pinecone: {e}\")\n",
    "    raise\n",
    "\n",
    "index_name = \"medicalbot\"\n",
    "\n",
    "# Enhanced Index Management\n",
    "try:\n",
    "    if not pc.has_index(index_name):        \n",
    "        pc.create_index(\n",
    "            name=index_name,\n",
    "            dimension=384,\n",
    "            metric=\"cosine\",\n",
    "            spec=ServerlessSpec(\n",
    "                cloud=\"aws\", \n",
    "                region=\"us-east-1\"\n",
    "            )\n",
    "        )\n",
    "        print(f\"✓ Created new index: {index_name}\")\n",
    "    else:\n",
    "        print(f\"✓ Using existing index: {index_name}\")\n",
    "        \n",
    "    index = pc.Index(index_name)\n",
    "    print(\"✓ Index ready\")\n",
    "except Exception as e:\n",
    "    print(f\"✗ Error with index: {e}\")\n",
    "    raise\n",
    "os.environ[\"PINECONE_API_KEY\"] = PINECONE_API_KEY\n",
    "os.environ[\"GEMINI_API_KEY\"] = GEMINI_API_KEY\n"
   ]
  },
  {
   "cell_type": "code",
   "execution_count": null,
   "id": "ac36b0b0",
   "metadata": {},
   "outputs": [],
   "source": [
    "# Enhanced Vector Store Creation \n",
    "def create_or_load_docsearch(text_chunks, index_name, embeddings):\n",
    "    \"\"\"Create or load vector store with fallback\"\"\"\n",
    "    if not text_chunks:\n",
    "        print(\"⚠ No text chunks available, loading existing vector store\")\n",
    "        return PineconeVectorStore.from_existing_index(\n",
    "            index_name=index_name,\n",
    "            embedding=embeddings\n",
    "        )\n",
    "    \n",
    "    try:\n",
    "        docsearch = PineconeVectorStore.from_documents(\n",
    "            documents=text_chunks,\n",
    "            index_name=index_name,\n",
    "            embedding=embeddings, \n",
    "        )\n",
    "        print(f\"✓ Vector store created with {len(text_chunks)} documents\")\n",
    "        return docsearch\n",
    "    except Exception as e:\n",
    "        print(f\"✗ Error creating vector store: {e}\")\n",
    "        print(\"⚠ Attempting to load existing vector store...\")\n",
    "        return PineconeVectorStore.from_existing_index(\n",
    "            index_name=index_name,\n",
    "            embedding=embeddings\n",
    "        )\n",
    "\n",
    "# Your original variable name preserved\n",
    "docsearch = create_or_load_docsearch(text_chunks, index_name, embeddings)"
   ]
  },
  {
   "cell_type": "code",
   "execution_count": 14,
   "id": "74a9cd3f",
   "metadata": {},
   "outputs": [
    {
     "name": "stdout",
     "output_type": "stream",
     "text": [
      "✓ Existing vector store loaded successfully\n"
     ]
    }
   ],
   "source": [
    "#Enhanced existing vector store loading\n",
    "try:\n",
    "    # Load Existing index \n",
    "    docsearch_existing = PineconeVectorStore.from_existing_index(\n",
    "        index_name=index_name,\n",
    "        embedding=embeddings\n",
    "    )\n",
    "    print(\"✓ Existing vector store loaded successfully\")\n",
    "    # Use the existing one to ensure we have data\n",
    "    docsearch = docsearch_existing\n",
    "except Exception as e:\n",
    "    print(f\"⚠ Could not load existing vector store: {e}\")\n",
    "    # Keep the newly created one"
   ]
  },
  {
   "cell_type": "code",
   "execution_count": 15,
   "id": "7a9a689d",
   "metadata": {},
   "outputs": [
    {
     "name": "stdout",
     "output_type": "stream",
     "text": [
      "✓ Added custom document successfully\n"
     ]
    }
   ],
   "source": [
    "try:\n",
    "    dswith = Document(\n",
    "        page_content=\"dswithbappy is a youtube channel that provides tutorials on various topics.\",\n",
    "        metadata={\"source\": \"Youtube\"}\n",
    "    )\n",
    "    docsearch.add_documents(documents=[dswith])\n",
    "    print(\"✓ Added custom document successfully\")\n",
    "except Exception as e:\n",
    "    print(f\"✗ Error adding custom document: {e}\")"
   ]
  },
  {
   "cell_type": "code",
   "execution_count": 16,
   "id": "4aa9855e",
   "metadata": {},
   "outputs": [
    {
     "name": "stdout",
     "output_type": "stream",
     "text": [
      "✓ Retriever configured successfully\n"
     ]
    }
   ],
   "source": [
    "try:\n",
    "    retriever = docsearch.as_retriever(search_type=\"similarity\", search_kwargs={\"k\":3})\n",
    "    print(\"✓ Retriever configured successfully\")\n",
    "except Exception as e:\n",
    "    print(f\"✗ Error setting up retriever: {e}\")\n",
    "    raise"
   ]
  },
  {
   "cell_type": "code",
   "execution_count": 17,
   "id": "487c8f7d",
   "metadata": {},
   "outputs": [
    {
     "name": "stdout",
     "output_type": "stream",
     "text": [
      "✓ Retrieved 3 documents for test query\n"
     ]
    }
   ],
   "source": [
    "try:\n",
    "    retrieved_docs = retriever.invoke(\"What is Cardiac shunt?\")\n",
    "    print(f\"✓ Retrieved {len(retrieved_docs)} documents for test query\")\n",
    "except Exception as e:\n",
    "    print(f\"✗ Error testing retrieval: {e}\")"
   ]
  },
  {
   "cell_type": "code",
   "execution_count": 18,
   "id": "f610b2da",
   "metadata": {},
   "outputs": [
    {
     "data": {
      "text/plain": [
       "[Document(id='1f8bb4cb-79cb-418b-aea3-ef0b51957ec1', metadata={'source': 'data\\\\The_GALE_ENCYCLOPEDIA_of_MEDICINE_SECOND.pdf'}, page_content='weak spot in the wall of an artery or heart chamber.\\nCardiac shunt —A defect in the wall of the heart\\nthat allows blood from different chambers to mix.\\nCoronary occlusive artery disease —Blockage of\\nthe arteries that supply blood to the heart; fre-\\nquently a precursor to a heart attack.\\nElectrocardiogram (ECG)—A graph that shows the\\nelectrical charges that trigger the heart to contract.\\nHeart abnormalities alter the graph, giving clues to\\nthe source of the abnormality.'),\n",
       " Document(id='eb0b9689-66c0-466d-a6da-7f8d108527cc', metadata={'source': 'data\\\\The_GALE_ENCYCLOPEDIA_of_MEDICINE_SECOND.pdf'}, page_content='weak spot in the wall of an artery or heart chamber.\\nCardiac shunt —A defect in the wall of the heart\\nthat allows blood from different chambers to mix.\\nCoronary occlusive artery disease —Blockage of\\nthe arteries that supply blood to the heart; fre-\\nquently a precursor to a heart attack.\\nElectrocardiogram (ECG)—A graph that shows the\\nelectrical charges that trigger the heart to contract.\\nHeart abnormalities alter the graph, giving clues to\\nthe source of the abnormality.'),\n",
       " Document(id='d7fd9c99-db45-4844-b12e-eb693f348c9f', metadata={'source': 'data\\\\The_GALE_ENCYCLOPEDIA_of_MEDICINE_SECOND.pdf'}, page_content='weak spot in the wall of an artery or heart chamber.\\nCardiac shunt —A defect in the wall of the heart\\nthat allows blood from different chambers to mix.\\nCoronary occlusive artery disease —Blockage of\\nthe arteries that supply blood to the heart; fre-\\nquently a precursor to a heart attack.\\nElectrocardiogram (ECG)—A graph that shows the\\nelectrical charges that trigger the heart to contract.\\nHeart abnormalities alter the graph, giving clues to\\nthe source of the abnormality.')]"
      ]
     },
     "execution_count": 18,
     "metadata": {},
     "output_type": "execute_result"
    }
   ],
   "source": [
    "retrieved_docs"
   ]
  },
  {
   "cell_type": "code",
   "execution_count": 19,
   "id": "508373c8",
   "metadata": {},
   "outputs": [
    {
     "name": "stdout",
     "output_type": "stream",
     "text": [
      "✓ Chat model initialized successfully\n"
     ]
    }
   ],
   "source": [
    "\n",
    "#Enhanced Chat Model Setup\n",
    "try:\n",
    "    chatModel = ChatGoogleGenerativeAI(\n",
    "        model=\"gemini-1.5-flash-latest\",\n",
    "        google_api_key=os.environ[\"GEMINI_API_KEY\"],\n",
    "        temperature=0.1,  \n",
    "        max_output_tokens=1000 \n",
    "    )\n",
    "    print(\"✓ Chat model initialized successfully\")\n",
    "except Exception as e:\n",
    "    print(f\"✗ Error initializing chat model: {e}\")\n",
    "    raise\n",
    "system_prompt = (\n",
    "    \"You are NthanziLanga+ AI assistant, created by TecNix to help with health-related questions and information. \"\n",
    "    \"You are designed to provide helpful, accurate health guidance while encouraging users to consult healthcare professionals for medical advice. \"\n",
    "    \"Use the following pieces of retrieved context to answer the question. \"\n",
    "    \"If you don't know the answer, say that you don't know. \"\n",
    "    \"Use three sentences maximum and keep the answer concise.\"\n",
    "    \"\\n\\n\"\n",
    "    \"{context}\"\n",
    ")\n",
    "\n"
   ]
  },
  {
   "cell_type": "code",
   "execution_count": 21,
   "id": "7d17bf82",
   "metadata": {},
   "outputs": [
    {
     "name": "stdout",
     "output_type": "stream",
     "text": [
      "✓ Prompt template created\n"
     ]
    }
   ],
   "source": [
    "try:\n",
    "    prompt = ChatPromptTemplate.from_messages(\n",
    "        [\n",
    "            (\"system\", system_prompt),\n",
    "            (\"human\", \"{input}\"),\n",
    "        ]\n",
    "    )\n",
    "    print(\"✓ Prompt template created\")\n",
    "except Exception as e:\n",
    "    print(f\"✗ Error creating prompt: {e}\")\n",
    "    raise"
   ]
  },
  {
   "cell_type": "code",
   "execution_count": 22,
   "id": "3e4256c7",
   "metadata": {},
   "outputs": [
    {
     "name": "stdout",
     "output_type": "stream",
     "text": [
      "✓ RAG chain created successfully\n"
     ]
    }
   ],
   "source": [
    "try:\n",
    "    question_answer_chain = create_stuff_documents_chain(chatModel, prompt)\n",
    "    rag_chain = create_retrieval_chain(retriever, question_answer_chain)\n",
    "    print(\"✓ RAG chain created successfully\")\n",
    "except Exception as e:\n",
    "    print(f\"✗ Error creating RAG chain: {e}\")\n",
    "    raise"
   ]
  },
  {
   "cell_type": "code",
   "execution_count": 23,
   "id": "d204c545",
   "metadata": {},
   "outputs": [],
   "source": [
    "#Enhanced query execution - keeping your exact structure\n",
    "def execute_query(rag_chain, query):\n",
    "    \"\"\"Execute query with error handling\"\"\"\n",
    "    try:\n",
    "        response = rag_chain.invoke({\"input\": query})\n",
    "        print(f\"✓ Query processed successfully: {query}\")\n",
    "        return response\n",
    "    except Exception as e:\n",
    "        print(f\"✗ Error processing query '{query}': {e}\")\n",
    "        return {\"answer\": \"Sorry, I encountered an error processing your question.\"}"
   ]
  },
  {
   "cell_type": "code",
   "execution_count": 24,
   "id": "5208f730",
   "metadata": {},
   "outputs": [
    {
     "name": "stdout",
     "output_type": "stream",
     "text": [
      "Malaria is a disease caused by Plasmodium parasites, transmitted through the bite of infected Anopheles mosquitoes.  It's characterized by severe, recurring chills and fever.  For diagnosis and treatment, consult a healthcare professional.\n"
     ]
    }
   ],
   "source": [
    "try:\n",
    "    response = rag_chain.invoke({\"input\": \"what is malaria?\"})\n",
    "    print(response[\"answer\"])\n",
    "except Exception as e:\n",
    "    print(f\"✗ Error in original query: {e}\")\n",
    "    response = {\"answer\": \"Error occurred during query processing\"}"
   ]
  },
  {
   "cell_type": "code",
   "execution_count": null,
   "id": "616c5dfc",
   "metadata": {},
   "outputs": [],
   "source": []
  }
 ],
 "metadata": {
  "kernelspec": {
   "display_name": "medibot",
   "language": "python",
   "name": "python3"
  },
  "language_info": {
   "codemirror_mode": {
    "name": "ipython",
    "version": 3
   },
   "file_extension": ".py",
   "mimetype": "text/x-python",
   "name": "python",
   "nbconvert_exporter": "python",
   "pygments_lexer": "ipython3",
   "version": "3.11.13"
  }
 },
 "nbformat": 4,
 "nbformat_minor": 5
}
